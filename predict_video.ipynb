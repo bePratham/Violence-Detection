{
 "cells": [
  {
   "cell_type": "code",
   "execution_count": 1,
   "metadata": {},
   "outputs": [
    {
     "name": "stdout",
     "output_type": "stream",
     "text": [
      "WARNING:tensorflow:From d:\\Projects\\RL\\.venv\\Lib\\site-packages\\keras\\src\\losses.py:2976: The name tf.losses.sparse_softmax_cross_entropy is deprecated. Please use tf.compat.v1.losses.sparse_softmax_cross_entropy instead.\n",
      "\n"
     ]
    }
   ],
   "source": [
    "from keras.models import load_model\n",
    "from collections import deque\n",
    "import tensorflow as tf\n",
    "from tensorflow.keras.losses import SparseCategoricalCrossentropy\n",
    "import matplotlib.pyplot as plt\n",
    "import numpy as np\n",
    "import argparse\n",
    "import pickle\n",
    "import cv2"
   ]
  },
  {
   "cell_type": "code",
   "execution_count": 2,
   "metadata": {},
   "outputs": [],
   "source": [
    "args = {\n",
    "\t\"model\": \"mod/violence.h5\",\n",
    "    \"label-bin\": \"mod/lb.pickle\",\n",
    "    \"input\": \"./input/V_8.mp4\",\n",
    "    # \"input\": \"./video/NonViolence/NV_1.mp4\",\n",
    "    # \"input\": \"./input/street-fight.mp4\",\n",
    "    \"output\": \"output/By-predict_video_(OLD MODEL).mp4\",\n",
    "    \"size\": 64\n",
    "}"
   ]
  },
  {
   "cell_type": "code",
   "execution_count": 3,
   "metadata": {},
   "outputs": [
    {
     "name": "stdout",
     "output_type": "stream",
     "text": [
      "WARNING:tensorflow:From C:\\Users\\pskat\\AppData\\Local\\Temp\\ipykernel_21156\\398788933.py:1: The name tf.disable_eager_execution is deprecated. Please use tf.compat.v1.disable_eager_execution instead.\n",
      "\n",
      "[INFO] loading model and label binarizer...\n",
      "WARNING:tensorflow:From d:\\Projects\\RL\\.venv\\Lib\\site-packages\\keras\\src\\utils\\version_utils.py:76: The name tf.executing_eagerly_outside_functions is deprecated. Please use tf.compat.v1.executing_eagerly_outside_functions instead.\n",
      "\n",
      "WARNING:tensorflow:From d:\\Projects\\RL\\.venv\\Lib\\site-packages\\keras\\src\\layers\\pooling\\max_pooling2d.py:161: The name tf.nn.max_pool is deprecated. Please use tf.nn.max_pool2d instead.\n",
      "\n",
      "WARNING:tensorflow:From d:\\Projects\\RL\\.venv\\Lib\\site-packages\\keras\\src\\layers\\normalization\\batch_normalization.py:883: _colocate_with (from tensorflow.python.framework.ops) is deprecated and will be removed in a future version.\n",
      "Instructions for updating:\n",
      "Colocations handled automatically by placer.\n"
     ]
    }
   ],
   "source": [
    "tf.compat.v1.disable_eager_execution()\n",
    "# load the trained model and label binarizer from disk\n",
    "print(\"[INFO] loading model and label binarizer...\")\n",
    "model = load_model(args[\"model\"])\n",
    "lb = pickle.loads(open(args[\"label-bin\"], \"rb\").read())"
   ]
  },
  {
   "cell_type": "code",
   "execution_count": 4,
   "metadata": {},
   "outputs": [],
   "source": [
    "# initialize the image mean for mean subtraction along with the\n",
    "# predictions queue\n",
    "mean = np.array([123.68, 116.779, 103.939][::1], dtype=\"float32\")\n",
    "Q = deque(maxlen=args[\"size\"])"
   ]
  },
  {
   "cell_type": "code",
   "execution_count": 5,
   "metadata": {},
   "outputs": [],
   "source": [
    "# initialize the video stream, pointer to output video file, and\n",
    "# frame dimensions\n",
    "vpath = args[\"input\"]\n",
    "if args[\"input\"] == 'camera':\n",
    "\tvpath = 0\n",
    "vs = cv2.VideoCapture(vpath)\n",
    "writer = None\n",
    "(W, H) = (None, None)"
   ]
  },
  {
   "cell_type": "code",
   "execution_count": 6,
   "metadata": {},
   "outputs": [
    {
     "name": "stdout",
     "output_type": "stream",
     "text": [
      "WARNING:tensorflow:From d:\\Projects\\RL\\.venv\\Lib\\site-packages\\keras\\src\\engine\\training_v1.py:635: The name tf.data.Iterator is deprecated. Please use tf.compat.v1.data.Iterator instead.\n",
      "\n",
      "WARNING:tensorflow:From d:\\Projects\\RL\\.venv\\Lib\\site-packages\\keras\\src\\engine\\training_utils_v1.py:50: The name tf.ragged.RaggedTensorValue is deprecated. Please use tf.compat.v1.ragged.RaggedTensorValue instead.\n",
      "\n"
     ]
    },
    {
     "name": "stderr",
     "output_type": "stream",
     "text": [
      "d:\\Projects\\RL\\.venv\\Lib\\site-packages\\keras\\src\\engine\\training_v1.py:2359: UserWarning: `Model.state_updates` will be removed in a future version. This property should not be used in TensorFlow 2.0, as `updates` are applied automatically.\n",
      "  updates=self.state_updates,\n"
     ]
    },
    {
     "name": "stdout",
     "output_type": "stream",
     "text": [
      "[INFO] End of video stream.\n",
      "[INFO] cleaning up...\n"
     ]
    }
   ],
   "source": [
    "# ... (previous code)\n",
    "\n",
    "# loop over frames from the video file stream\n",
    "while True:\n",
    "    # read the next frame from the file\n",
    "    (grabbed, frame) = vs.read()\n",
    "\n",
    "    # if the frame was not grabbed, then we have reached the end of the stream\n",
    "    if not grabbed:\n",
    "        print(\"[INFO] End of video stream.\")\n",
    "        break\n",
    "\n",
    "    # if the frame dimensions are empty, grab them\n",
    "    if W is None or H is None:\n",
    "        (H, W) = frame.shape[:2]\n",
    "\n",
    "    # clone the output frame, then convert it from BGR to RGB ordering, resize the frame to a fixed 224x224, and then perform mean subtraction\n",
    "    output = frame.copy()\n",
    "    frame = cv2.cvtColor(frame, cv2.COLOR_BGR2RGB)\n",
    "    frame = cv2.resize(frame, (224, 224)).astype(\"float32\")\n",
    "    frame -= mean\n",
    "\n",
    "    # make predictions on the frame and then update the predictions queue\n",
    "    preds = model.predict(np.expand_dims(frame, axis=0))[0]\n",
    "    Q.append(preds)\n",
    "\n",
    "    # perform prediction averaging over the current history of previous predictions\n",
    "    results = np.array(Q).mean(axis=0)\n",
    "    i = 1\n",
    "    label = lb.classes_[i]\n",
    "\n",
    "    prob = results[i] * 100\n",
    "    text_color = (0, 255, 0)  # default: green\n",
    "\n",
    "    if prob > 52:  # Violence prob\n",
    "        text_color = (0, 0, 255)  # red\n",
    "    else:\n",
    "        label = 'Normal'\n",
    "\n",
    "    text = \"State : {:8} ({:3.2f}%)\".format(label, prob)\n",
    "    FONT = cv2.FONT_HERSHEY_SIMPLEX\n",
    "\n",
    "    cv2.putText(output, text, (35, 50), FONT, 1.25, text_color, 3)\n",
    "\n",
    "    # plot graph over background image\n",
    "    output = cv2.rectangle(output, (35, 80), (35 + int(prob) * 5, 80 + 20), text_color, -1)\n",
    "\n",
    "    # check if the video writer is None\n",
    "    if writer is None:\n",
    "        # initialize our video writer\n",
    "        fourcc = cv2.VideoWriter_fourcc(*\"H264\")\n",
    "        writer = cv2.VideoWriter(args[\"output\"], fourcc, 30, (W, H), True)\n",
    "\n",
    "    # write the output frame to disk\n",
    "    writer.write(output)\n",
    "\n",
    "    # show the output image\n",
    "    cv2.imshow(\"Output\", output)\n",
    "    \n",
    "    # introduce a slight delay and check for key press\n",
    "    key = cv2.waitKey(1) & 0xFF\n",
    "\n",
    "    # if the 'q' key was pressed or window is closed, break from the loop\n",
    "    if key == ord(\"q\") or cv2.getWindowProperty(\"Output\", cv2.WND_PROP_VISIBLE) < 1:\n",
    "        break\n",
    "\n",
    "# release the file pointers\n",
    "print(\"[INFO] cleaning up...\")\n",
    "writer.release()\n",
    "vs.release()\n",
    "cv2.destroyAllWindows()  # Close all OpenCV windows\n"
   ]
  },
  {
   "cell_type": "code",
   "execution_count": null,
   "metadata": {},
   "outputs": [],
   "source": []
  }
 ],
 "metadata": {
  "kernelspec": {
   "display_name": "Python 3 (ipykernel)",
   "language": "python",
   "name": "python3"
  },
  "language_info": {
   "codemirror_mode": {
    "name": "ipython",
    "version": 3
   },
   "file_extension": ".py",
   "mimetype": "text/x-python",
   "name": "python",
   "nbconvert_exporter": "python",
   "pygments_lexer": "ipython3",
   "version": "3.11.6"
  }
 },
 "nbformat": 4,
 "nbformat_minor": 4
}
